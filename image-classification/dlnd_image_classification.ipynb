{
 "cells": [
  {
   "cell_type": "markdown",
   "metadata": {
    "collapsed": true,
    "deletable": true,
    "editable": true
   },
   "source": [
    "# Image Classification\n",
    "In this project, you'll classify images from the [CIFAR-10 dataset](https://www.cs.toronto.edu/~kriz/cifar.html).  The dataset consists of airplanes, dogs, cats, and other objects. You'll preprocess the images, then train a convolutional neural network on all the samples. The images need to be normalized and the labels need to be one-hot encoded.  You'll get to apply what you learned and build a convolutional, max pooling, dropout, and fully connected layers.  At the end, you'll get to see your neural network's predictions on the sample images.\n",
    "## Get the Data\n",
    "Run the following cell to download the [CIFAR-10 dataset for python](https://www.cs.toronto.edu/~kriz/cifar-10-python.tar.gz)."
   ]
  },
  {
   "cell_type": "code",
   "execution_count": 63,
   "metadata": {
    "collapsed": false,
    "deletable": true,
    "editable": true
   },
   "outputs": [
    {
     "name": "stdout",
     "output_type": "stream",
     "text": [
      "All files found!\n"
     ]
    }
   ],
   "source": [
    "\"\"\"\n",
    "DON'T MODIFY ANYTHING IN THIS CELL THAT IS BELOW THIS LINE\n",
    "\"\"\"\n",
    "from urllib.request import urlretrieve\n",
    "from os.path import isfile, isdir\n",
    "from tqdm import tqdm\n",
    "import problem_unittests as tests\n",
    "import tarfile\n",
    "\n",
    "cifar10_dataset_folder_path = 'cifar-10-batches-py'\n",
    "\n",
    "class DLProgress(tqdm):\n",
    "    last_block = 0\n",
    "\n",
    "    def hook(self, block_num=1, block_size=1, total_size=None):\n",
    "        self.total = total_size\n",
    "        self.update((block_num - self.last_block) * block_size)\n",
    "        self.last_block = block_num\n",
    "\n",
    "if not isfile('cifar-10-python.tar.gz'):\n",
    "    with DLProgress(unit='B', unit_scale=True, miniters=1, desc='CIFAR-10 Dataset') as pbar:\n",
    "        urlretrieve(\n",
    "            'https://www.cs.toronto.edu/~kriz/cifar-10-python.tar.gz',\n",
    "            'cifar-10-python.tar.gz',\n",
    "            pbar.hook)\n",
    "\n",
    "if not isdir(cifar10_dataset_folder_path):\n",
    "    with tarfile.open('cifar-10-python.tar.gz') as tar:\n",
    "        tar.extractall()\n",
    "        tar.close()\n",
    "\n",
    "\n",
    "tests.test_folder_path(cifar10_dataset_folder_path)"
   ]
  },
  {
   "cell_type": "markdown",
   "metadata": {
    "deletable": true,
    "editable": true
   },
   "source": [
    "## Explore the Data\n",
    "The dataset is broken into batches to prevent your machine from running out of memory.  The CIFAR-10 dataset consists of 5 batches, named `data_batch_1`, `data_batch_2`, etc.. Each batch contains the labels and images that are one of the following:\n",
    "* airplane\n",
    "* automobile\n",
    "* bird\n",
    "* cat\n",
    "* deer\n",
    "* dog\n",
    "* frog\n",
    "* horse\n",
    "* ship\n",
    "* truck\n",
    "\n",
    "Understanding a dataset is part of making predictions on the data.  Play around with the code cell below by changing the `batch_id` and `sample_id`. The `batch_id` is the id for a batch (1-5). The `sample_id` is the id for a image and label pair in the batch.\n",
    "\n",
    "Ask yourself \"What are all possible labels?\", \"What is the range of values for the image data?\", \"Are the labels in order or random?\".  Answers to questions like these will help you preprocess the data and end up with better predictions."
   ]
  },
  {
   "cell_type": "code",
   "execution_count": 82,
   "metadata": {
    "collapsed": false,
    "deletable": true,
    "editable": true
   },
   "outputs": [
    {
     "name": "stdout",
     "output_type": "stream",
     "text": [
      "\n",
      "Stats of batch 2:\n",
      "Samples: 10000\n",
      "Label Counts: {0: 984, 1: 1007, 2: 1010, 3: 995, 4: 1010, 5: 988, 6: 1008, 7: 1026, 8: 987, 9: 985}\n",
      "First 20 Labels: [1, 6, 6, 8, 8, 3, 4, 6, 0, 6, 0, 3, 6, 6, 5, 4, 8, 3, 2, 6]\n",
      "\n",
      "Example of Image 5:\n",
      "Image - Min Value: 3 Max Value: 219\n",
      "Image - Shape: (32, 32, 3)\n",
      "Label - Label Id: 3 Name: cat\n"
     ]
    },
    {
     "data": {
      "image/png": "[encoded data removed]",
      "text/plain": [
       "<matplotlib.figure.Figure at 0x7f78a56becc0>"
      ]
     },
     "metadata": {
      "image/png": {
       "height": 250,
       "width": 253
      }
     },
     "output_type": "display_data"
    }
   ],
   "source": [
    "%matplotlib inline\n",
    "%config InlineBackend.figure_format = 'retina'\n",
    "\n",
    "import helper\n",
    "import numpy as np\n",
    "\n",
    "# Explore the dataset\n",
    "batch_id = 2\n",
    "sample_id = 5\n",
    "helper.display_stats(cifar10_dataset_folder_path, batch_id, sample_id)"
   ]
  },
  {
   "cell_type": "markdown",
   "metadata": {
    "deletable": true,
    "editable": true
   },
   "source": [
    "## Implement Preprocess Functions\n",
    "### Normalize\n",
    "In the cell below, implement the `normalize` function to take in image data, `x`, and return it as a normalized Numpy array. The values should be in the range of 0 to 1, inclusive.  The return object should be the same shape as `x`."
   ]
  },
  {
   "cell_type": "code",
   "execution_count": 123,
   "metadata": {
    "collapsed": false,
    "deletable": true,
    "editable": true
   },
   "outputs": [
    {
     "name": "stdout",
     "output_type": "stream",
     "text": [
      "Tests Passed\n"
     ]
    }
   ],
   "source": [
    "def normalize(x):\n",
    "    \"\"\"\n",
    "    Normalize a list of sample image data in the range of 0 to 1\n",
    "    : x: List of image data.  The image shape is (32, 32, 3)\n",
    "    : return: Numpy array of normalize data\n",
    "    \"\"\"\n",
    "    # TODO: Implement Function\n",
    "    x = (x - np.min(x)) / (np.max(x) - np.min(x))\n",
    "    return x\n",
    "\n",
    "\"\"\"\n",
    "DON'T MODIFY ANYTHING IN THIS CELL THAT IS BELOW THIS LINE\n",
    "\"\"\"\n",
    "tests.test_normalize(normalize)"
   ]
  },
  {
   "cell_type": "markdown",
   "metadata": {
    "deletable": true,
    "editable": true
   },
   "source": [
    "### One-hot encode\n",
    "Just like the previous code cell, you'll be implementing a function for preprocessing.  This time, you'll implement the `one_hot_encode` function. The input, `x`, are a list of labels.  Implement the function to return the list of labels as One-Hot encoded Numpy array.  The possible values for labels are 0 to 9. The one-hot encoding function should return the same encoding for each value between each call to `one_hot_encode`.  Make sure to save the map of encodings outside the function.\n",
    "\n",
    "Hint: Don't reinvent the wheel."
   ]
  },
  {
   "cell_type": "code",
   "execution_count": 124,
   "metadata": {
    "collapsed": false,
    "deletable": true,
    "editable": true
   },
   "outputs": [
    {
     "name": "stdout",
     "output_type": "stream",
     "text": [
      "Tests Passed\n"
     ]
    }
   ],
   "source": [
    "from sklearn.preprocessing import OneHotEncoder\n",
    "def one_hot_encode(x):\n",
    "    \"\"\"\n",
    "    One hot encode a list of sample labels. Return a one-hot encoded vector for each label.\n",
    "    : x: List of sample Labels\n",
    "    : return: Numpy array of one-hot encoded labels\n",
    "    \"\"\"\n",
    "    # TODO: Implement Function\n",
    "    return np.eye(10)[x]\n",
    "\n",
    "\n",
    "\"\"\"\n",
    "DON'T MODIFY ANYTHING IN THIS CELL THAT IS BELOW THIS LINE\n",
    "\"\"\"\n",
    "tests.test_one_hot_encode(one_hot_encode)"
   ]
  },
  {
   "cell_type": "markdown",
   "metadata": {
    "deletable": true,
    "editable": true
   },
   "source": [
    "### Randomize Data\n",
    "As you saw from exploring the data above, the order of the samples are randomized.  It doesn't hurt to randomize it again, but you don't need to for this dataset."
   ]
  },
  {
   "cell_type": "markdown",
   "metadata": {
    "deletable": true,
    "editable": true
   },
   "source": [
    "## Preprocess all the data and save it\n",
    "Running the code cell below will preprocess all the CIFAR-10 data and save it to file. The code below also uses 10% of the training data for validation."
   ]
  },
  {
   "cell_type": "code",
   "execution_count": 125,
   "metadata": {
    "collapsed": false,
    "deletable": true,
    "editable": true
   },
   "outputs": [],
   "source": [
    "\"\"\"\n",
    "DON'T MODIFY ANYTHING IN THIS CELL\n",
    "\"\"\"\n",
    "# Preprocess Training, Validation, and Testing Data\n",
    "helper.preprocess_and_save_data(cifar10_dataset_folder_path, normalize, one_hot_encode)"
   ]
  },
  {
   "cell_type": "markdown",
   "metadata": {
    "deletable": true,
    "editable": true
   },
   "source": [
    "# Check Point\n",
    "This is your first checkpoint.  If you ever decide to come back to this notebook or have to restart the notebook, you can start from here.  The preprocessed data has been saved to disk."
   ]
  },
  {
   "cell_type": "code",
   "execution_count": 126,
   "metadata": {
    "collapsed": true,
    "deletable": true,
    "editable": true
   },
   "outputs": [],
   "source": [
    "\"\"\"\n",
    "DON'T MODIFY ANYTHING IN THIS CELL\n",
    "\"\"\"\n",
    "import pickle\n",
    "import problem_unittests as tests\n",
    "import helper\n",
    "\n",
    "# Load the Preprocessed Validation data\n",
    "valid_features, valid_labels = pickle.load(open('preprocess_validation.p', mode='rb'))"
   ]
  },
  {
   "cell_type": "markdown",
   "metadata": {
    "deletable": true,
    "editable": true
   },
   "source": [
    "## Build the network\n",
    "For the neural network, you'll build each layer into a function.  Most of the code you've seen has been outside of functions. To test your code more thoroughly, we require that you put each layer in a function.  This allows us to give you better feedback and test for simple mistakes using our unittests before you submit your project.\n",
    "\n",
    ">**Note:** If you're finding it hard to dedicate enough time for this course each week, we've provided a small shortcut to this part of the project. In the next couple of problems, you'll have the option to use classes from the [TensorFlow Layers](https://www.tensorflow.org/api_docs/python/tf/layers) or [TensorFlow Layers (contrib)](https://www.tensorflow.org/api_guides/python/contrib.layers) packages to build each layer, except the layers you build in the \"Convolutional and Max Pooling Layer\" section.  TF Layers is similar to Keras's and TFLearn's abstraction to layers, so it's easy to pickup.\n",
    "\n",
    ">However, if you would like to get the most out of this course, try to solve all the problems _without_ using anything from the TF Layers packages. You **can** still use classes from other packages that happen to have the same name as ones you find in TF Layers! For example, instead of using the TF Layers version of the `conv2d` class, [tf.layers.conv2d](https://www.tensorflow.org/api_docs/python/tf/layers/conv2d), you would want to use the TF Neural Network version of `conv2d`, [tf.nn.conv2d](https://www.tensorflow.org/api_docs/python/tf/nn/conv2d). \n",
    "\n",
    "Let's begin!\n",
    "\n",
    "### Input\n",
    "The neural network needs to read the image data, one-hot encoded labels, and dropout keep probability. Implement the following functions\n",
    "* Implement `neural_net_image_input`\n",
    " * Return a [TF Placeholder](https://www.tensorflow.org/api_docs/python/tf/placeholder)\n",
    " * Set the shape using `image_shape` with batch size set to `None`.\n",
    " * Name the TensorFlow placeholder \"x\" using the TensorFlow `name` parameter in the [TF Placeholder](https://www.tensorflow.org/api_docs/python/tf/placeholder).\n",
    "* Implement `neural_net_label_input`\n",
    " * Return a [TF Placeholder](https://www.tensorflow.org/api_docs/python/tf/placeholder)\n",
    " * Set the shape using `n_classes` with batch size set to `None`.\n",
    " * Name the TensorFlow placeholder \"y\" using the TensorFlow `name` parameter in the [TF Placeholder](https://www.tensorflow.org/api_docs/python/tf/placeholder).\n",
    "* Implement `neural_net_keep_prob_input`\n",
    " * Return a [TF Placeholder](https://www.tensorflow.org/api_docs/python/tf/placeholder) for dropout keep probability.\n",
    " * Name the TensorFlow placeholder \"keep_prob\" using the TensorFlow `name` parameter in the [TF Placeholder](https://www.tensorflow.org/api_docs/python/tf/placeholder).\n",
    "\n",
    "These names will be used at the end of the project to load your saved model.\n",
    "\n",
    "Note: `None` for shapes in TensorFlow allow for a dynamic size."
   ]
  },
  {
   "cell_type": "code",
   "execution_count": 128,
   "metadata": {
    "collapsed": false,
    "deletable": true,
    "editable": true
   },
   "outputs": [
    {
     "name": "stdout",
     "output_type": "stream",
     "text": [
      "Image Input Tests Passed.\n",
      "Label Input Tests Passed.\n",
      "Keep Prob Tests Passed.\n"
     ]
    }
   ],
   "source": [
    "import tensorflow as tf\n",
    "\n",
    "def neural_net_image_input(image_shape):\n",
    "    \"\"\"\n",
    "    Return a Tensor for a bach of image input\n",
    "    : image_shape: Shape of the images\n",
    "    : return: Tensor for image input.\n",
    "    \"\"\"\n",
    "    # TODO: Implement Function\n",
    "    return tf.placeholder(tf.float32, shape=[None, *image_shape], name='x')\n",
    "\n",
    "\n",
    "def neural_net_label_input(n_classes):\n",
    "    \"\"\"\n",
    "    Return a Tensor for a batch of label input\n",
    "    : n_classes: Number of classes\n",
    "    : return: Tensor for label input.\n",
    "    \"\"\"\n",
    "    # TODO: Implement Function\n",
    "    return tf.placeholder(tf.float32,(None, n_classes), name=\"y\")\n",
    "\n",
    "\n",
    "def neural_net_keep_prob_input():\n",
    "    \"\"\"\n",
    "    Return a Tensor for keep probability\n",
    "    : return: Tensor for keep probability.\n",
    "    \"\"\"\n",
    "    # TODO: Implement Function\n",
    "    return tf.placeholder(tf.float32, name=\"keep_prob\")\n",
    "\n",
    "\n",
    "\"\"\"\n",
    "DON'T MODIFY ANYTHING IN THIS CELL THAT IS BELOW THIS LINE\n",
    "\"\"\"\n",
    "tf.reset_default_graph()\n",
    "tests.test_nn_image_inputs(neural_net_image_input)\n",
    "tests.test_nn_label_inputs(neural_net_label_input)\n",
    "tests.test_nn_keep_prob_inputs(neural_net_keep_prob_input)"
   ]
  },
  {
   "cell_type": "markdown",
   "metadata": {
    "deletable": true,
    "editable": true
   },
   "source": [
    "### Convolution and Max Pooling Layer\n",
    "Convolution layers have a lot of success with images. For this code cell, you should implement the function `conv2d_maxpool` to apply convolution then max pooling:\n",
    "* Create the weight and bias using `conv_ksize`, `conv_num_outputs` and the shape of `x_tensor`.\n",
    "* Apply a convolution to `x_tensor` using weight and `conv_strides`.\n",
    " * We recommend you use same padding, but you're welcome to use any padding.\n",
    "* Add bias\n",
    "* Add a nonlinear activation to the convolution.\n",
    "* Apply Max Pooling using `pool_ksize` and `pool_strides`.\n",
    " * We recommend you use same padding, but you're welcome to use any padding.\n",
    "\n",
    "**Note:** You **can't** use [TensorFlow Layers](https://www.tensorflow.org/api_docs/python/tf/layers) or [TensorFlow Layers (contrib)](https://www.tensorflow.org/api_guides/python/contrib.layers) for **this** layer, but you can still use TensorFlow's [Neural Network](https://www.tensorflow.org/api_docs/python/tf/nn) package. You may still use the shortcut option for all the **other** layers."
   ]
  },
  {
   "cell_type": "code",
   "execution_count": 129,
   "metadata": {
    "collapsed": false,
    "deletable": true,
    "editable": true
   },
   "outputs": [
    {
     "name": "stdout",
     "output_type": "stream",
     "text": [
      "Tests Passed\n"
     ]
    }
   ],
   "source": [
    "def conv2d_maxpool(x_tensor, conv_num_outputs, conv_ksize, conv_strides, pool_ksize, pool_strides):\n",
    "    \"\"\"\n",
    "    Apply convolution then max pooling to x_tensor\n",
    "    :param x_tensor: TensorFlow Tensor\n",
    "    :param conv_num_outputs: Number of outputs for the convolutional layer\n",
    "    :param conv_ksize: kernal size 2-D Tuple for the convolutional layer\n",
    "    :param conv_strides: Stride 2-D Tuple for convolution\n",
    "    :param pool_ksize: kernal size 2-D Tuple for pool\n",
    "    :param pool_strides: Stride 2-D Tuple for pool\n",
    "    : return: A tensor that represents convolution and max pooling of x_tensor\n",
    "    \"\"\"\n",
    "    # TODO: Implement Function\n",
    "    \n",
    "    shape = [*conv_ksize, int(x_tensor.shape[3]), conv_num_outputs]\n",
    "    weight = tf.Variable(tf.random_normal(shape, stddev=0.1))\n",
    "    bias = tf.Variable(tf.zeros(conv_num_outputs))\n",
    "    \n",
    "    conv_strides = [1, *conv_strides, 1]\n",
    "    cs = tf.nn.conv2d(x_tensor, weight, strides=conv_strides, padding='SAME')\n",
    "    \n",
    "    csb = tf.nn.bias_add(cs, bias)\n",
    "    csc = tf.nn.relu(csb)\n",
    "    \n",
    "    pool_ksize = [1, *pool_ksize, 1]\n",
    "    pool_strides = [1, *pool_strides, 1]\n",
    "    convmax_tens = tf.nn.max_pool(csc, pool_ksize, pool_strides, padding='SAME')\n",
    "    return convmax_tens\n",
    "\n",
    "\n",
    "\"\"\"\n",
    "DON'T MODIFY ANYTHING IN THIS CELL THAT IS BELOW THIS LINE\n",
    "\"\"\"\n",
    "tests.test_con_pool(conv2d_maxpool)"
   ]
  },
  {
   "cell_type": "markdown",
   "metadata": {
    "deletable": true,
    "editable": true
   },
   "source": [
    "### Flatten Layer\n",
    "Implement the `flatten` function to change the dimension of `x_tensor` from a 4-D tensor to a 2-D tensor.  The output should be the shape (*Batch Size*, *Flattened Image Size*). Shortcut option: you can use classes from the [TensorFlow Layers](https://www.tensorflow.org/api_docs/python/tf/layers) or [TensorFlow Layers (contrib)](https://www.tensorflow.org/api_guides/python/contrib.layers) packages for this layer. For more of a challenge, only use other TensorFlow packages."
   ]
  },
  {
   "cell_type": "code",
   "execution_count": 130,
   "metadata": {
    "collapsed": false,
    "deletable": true,
    "editable": true
   },
   "outputs": [
    {
     "name": "stdout",
     "output_type": "stream",
     "text": [
      "Tests Passed\n"
     ]
    }
   ],
   "source": [
    "def flatten(x_tensor):\n",
    "    \"\"\"\n",
    "    Flatten x_tensor to (Batch Size, Flattened Image Size)\n",
    "    : x_tensor: A tensor of size (Batch Size, ...), where ... are the image dimensions.\n",
    "    : return: A tensor of size (Batch Size, Flattened Image Size).\n",
    "    \"\"\"\n",
    "    # TODO: Implement Function\n",
    "\n",
    "    batch_size, *img_size = x_tensor.get_shape().as_list()\n",
    "    img_size = img_size[0] * img_size[1] * img_size[2]\n",
    "    f_tensor = tf.reshape(x_tensor, [-1, img_size])\n",
    "    return f_tensor\n",
    "\n",
    "\n",
    "\"\"\"\n",
    "DON'T MODIFY ANYTHING IN THIS CELL THAT IS BELOW THIS LINE\n",
    "\"\"\"\n",
    "tests.test_flatten(flatten)"
   ]
  },
  {
   "cell_type": "markdown",
   "metadata": {
    "deletable": true,
    "editable": true
   },
   "source": [
    "### Fully-Connected Layer\n",
    "Implement the `fully_conn` function to apply a fully connected layer to `x_tensor` with the shape (*Batch Size*, *num_outputs*). Shortcut option: you can use classes from the [TensorFlow Layers](https://www.tensorflow.org/api_docs/python/tf/layers) or [TensorFlow Layers (contrib)](https://www.tensorflow.org/api_guides/python/contrib.layers) packages for this layer. For more of a challenge, only use other TensorFlow packages."
   ]
  },
  {
   "cell_type": "code",
   "execution_count": 131,
   "metadata": {
    "collapsed": false,
    "deletable": true,
    "editable": true
   },
   "outputs": [
    {
     "name": "stdout",
     "output_type": "stream",
     "text": [
      "Tests Passed\n"
     ]
    }
   ],
   "source": [
    "def fully_conn(x_tensor, num_outputs):\n",
    "    \"\"\"\n",
    "    Apply a fully connected layer to x_tensor using weight and bias\n",
    "    : x_tensor: A 2-D tensor where the first dimension is batch size.\n",
    "    : num_outputs: The number of output that the new tensor should be.\n",
    "    : return: A 2-D tensor where the second dimension is num_outputs.\n",
    "    \"\"\"\n",
    "    # TODO: Implement Function\n",
    "    \n",
    "    shape = (int(x_tensor.get_shape().as_list()[1]), num_outputs)\n",
    "    weight = tf.Variable(tf.random_normal(shape, stddev=0.1))\n",
    "    bias = tf.Variable(tf.zeros(num_outputs))\n",
    "    x = tf.add(tf.matmul(x_tensor, weight), bias)\n",
    "    f_tensor = tf.nn.relu(x)\n",
    "    return x\n",
    "\n",
    "\n",
    "\"\"\"\n",
    "DON'T MODIFY ANYTHING IN THIS CELL THAT IS BELOW THIS LINE\n",
    "\"\"\"\n",
    "tests.test_fully_conn(fully_conn)"
   ]
  },
  {
   "cell_type": "markdown",
   "metadata": {
    "deletable": true,
    "editable": true
   },
   "source": [
    "### Output Layer\n",
    "Implement the `output` function to apply a fully connected layer to `x_tensor` with the shape (*Batch Size*, *num_outputs*). Shortcut option: you can use classes from the [TensorFlow Layers](https://www.tensorflow.org/api_docs/python/tf/layers) or [TensorFlow Layers (contrib)](https://www.tensorflow.org/api_guides/python/contrib.layers) packages for this layer. For more of a challenge, only use other TensorFlow packages.\n",
    "\n",
    "**Note:** Activation, softmax, or cross entropy should **not** be applied to this."
   ]
  },
  {
   "cell_type": "code",
   "execution_count": 144,
   "metadata": {
    "collapsed": false,
    "deletable": true,
    "editable": true
   },
   "outputs": [
    {
     "name": "stdout",
     "output_type": "stream",
     "text": [
      "Tests Passed\n"
     ]
    }
   ],
   "source": [
    "def output(x_tensor, num_outputs):\n",
    "    \"\"\"\n",
    "    Apply a output layer to x_tensor using weight and bias\n",
    "    : x_tensor: A 2-D tensor where the first dimension is batch size.\n",
    "    : num_outputs: The number of output that the new tensor should be.\n",
    "    : return: A 2-D tensor where the second dimension is num_outputs.\n",
    "    \"\"\"\n",
    "    # TODO: Implement Function\n",
    "    \n",
    "    shape = [int(x_tensor.get_shape().as_list()[1]), num_outputs]\n",
    "    weight = tf.Variable(tf.random_normal(shape, stddev=0.1))\n",
    "    bias = tf.Variable(tf.zeros(num_outputs))\n",
    "    f_tensor = tf.add(tf.matmul(x_tensor, weight), bias)\n",
    "    \n",
    "    return f_tensor\n",
    "\n",
    "\n",
    "\"\"\"\n",
    "DON'T MODIFY ANYTHING IN THIS CELL THAT IS BELOW THIS LINE\n",
    "\"\"\"\n",
    "tests.test_output(output)"
   ]
  },
  {
   "cell_type": "markdown",
   "metadata": {
    "deletable": true,
    "editable": true
   },
   "source": [
    "### Create Convolutional Model\n",
    "Implement the function `conv_net` to create a convolutional neural network model. The function takes in a batch of images, `x`, and outputs logits.  Use the layers you created above to create this model:\n",
    "\n",
    "* Apply 1, 2, or 3 Convolution and Max Pool layers\n",
    "* Apply a Flatten Layer\n",
    "* Apply 1, 2, or 3 Fully Connected Layers\n",
    "* Apply an Output Layer\n",
    "* Return the output\n",
    "* Apply [TensorFlow's Dropout](https://www.tensorflow.org/api_docs/python/tf/nn/dropout) to one or more layers in the model using `keep_prob`. "
   ]
  },
  {
   "cell_type": "code",
   "execution_count": 150,
   "metadata": {
    "collapsed": false,
    "deletable": true,
    "editable": true
   },
   "outputs": [
    {
     "name": "stdout",
     "output_type": "stream",
     "text": [
      "Neural Network Built!\n"
     ]
    }
   ],
   "source": [
    "def conv_net(x, keep_prob):\n",
    "    \"\"\"\n",
    "    Create a convolutional neural network model\n",
    "    : x: Placeholder tensor that holds image data.\n",
    "    : keep_prob: Placeholder tensor that hold dropout keep probability.\n",
    "    : return: Tensor that represents logits\n",
    "    \"\"\"\n",
    "    x_tensor = x\n",
    "    conv_num_outputs = 384\n",
    "    conv_ksize = (3,3)\n",
    "    conv_strides = (1,1)\n",
    "    pool_ksize = (2,2)\n",
    "    pool_strides = (2,2)\n",
    "    num_outputs = 10\n",
    "    \n",
    "    # TODO: Apply 1, 2, or 3 Convolution and Max Pool layers\n",
    "    #    Play around with different number of outputs, kernel size and stride\n",
    "    # Function Definition from Above:\n",
    "\n",
    "    x = conv2d_maxpool(x, 32, (3, 3), (1, 1), (2, 2), (2, 2))\n",
    "    x = conv2d_maxpool(x, 32, (3, 3), (2, 2), (2, 2), (2, 2))\n",
    "    x = conv2d_maxpool(x, 64, (3, 3), (1, 1), (2, 2), (2, 2))\n",
    "\n",
    "    \n",
    "    # TODO: Apply a Flatten Layer\n",
    "    # Function Definition from Above:\n",
    "    flat = flatten(x)\n",
    "    \n",
    "\n",
    "    # TODO: Apply 1, 2, or 3 Fully Connected Layers\n",
    "    #    Play around with different number of outputs\n",
    "    # Function Definition from Above:\n",
    "    fconn1 = fully_conn(flat, 512)\n",
    "    fconn1b = tf.nn.dropout(fconn1, keep_prob)\n",
    "    \n",
    "    fconn2 = fully_conn(fconn1b, 128)\n",
    "    fconn2b = tf.nn.dropout(fconn2, keep_prob)\n",
    "    \n",
    "    \n",
    "    # TODO: Apply an Output Layer\n",
    "    #    Set this to the number of classes\n",
    "    # Function Definition from Above:\n",
    "    f_tensor = output(fconn2b, num_outputs)\n",
    "\n",
    "    \n",
    "    # TODO: return output\n",
    "    return f_tensor\n",
    "\n",
    "\n",
    "\"\"\"\n",
    "DON'T MODIFY ANYTHING IN THIS CELL THAT IS BELOW THIS LINE\n",
    "\"\"\"\n",
    "\n",
    "##############################\n",
    "## Build the Neural Network ##\n",
    "##############################\n",
    "\n",
    "# Remove previous weights, bias, inputs, etc..\n",
    "tf.reset_default_graph()\n",
    "\n",
    "# Inputs\n",
    "x = neural_net_image_input((32, 32, 3))\n",
    "y = neural_net_label_input(10)\n",
    "keep_prob = neural_net_keep_prob_input()\n",
    "\n",
    "# Model\n",
    "logits = conv_net(x, keep_prob)\n",
    "\n",
    "# Name logits Tensor, so that is can be loaded from disk after training\n",
    "logits = tf.identity(logits, name='logits')\n",
    "\n",
    "# Loss and Optimizer\n",
    "cost = tf.reduce_mean(tf.nn.softmax_cross_entropy_with_logits(logits=logits, labels=y))\n",
    "optimizer = tf.train.AdamOptimizer().minimize(cost)\n",
    "\n",
    "# Accuracy\n",
    "correct_pred = tf.equal(tf.argmax(logits, 1), tf.argmax(y, 1))\n",
    "accuracy = tf.reduce_mean(tf.cast(correct_pred, tf.float32), name='accuracy')\n",
    "\n",
    "tests.test_conv_net(conv_net)"
   ]
  },
  {
   "cell_type": "markdown",
   "metadata": {
    "deletable": true,
    "editable": true
   },
   "source": [
    "## Train the Neural Network\n",
    "### Single Optimization\n",
    "Implement the function `train_neural_network` to do a single optimization.  The optimization should use `optimizer` to optimize in `session` with a `feed_dict` of the following:\n",
    "* `x` for image input\n",
    "* `y` for labels\n",
    "* `keep_prob` for keep probability for dropout\n",
    "\n",
    "This function will be called for each batch, so `tf.global_variables_initializer()` has already been called.\n",
    "\n",
    "Note: Nothing needs to be returned. This function is only optimizing the neural network."
   ]
  },
  {
   "cell_type": "code",
   "execution_count": 146,
   "metadata": {
    "collapsed": false,
    "deletable": true,
    "editable": true
   },
   "outputs": [
    {
     "name": "stdout",
     "output_type": "stream",
     "text": [
      "Tests Passed\n"
     ]
    }
   ],
   "source": [
    "def train_neural_network(session, optimizer, keep_probability, feature_batch, label_batch):\n",
    "    \"\"\"\n",
    "    Optimize the session on a batch of images and labels\n",
    "    : session: Current TensorFlow session\n",
    "    : optimizer: TensorFlow optimizer function\n",
    "    : keep_probability: keep probability\n",
    "    : feature_batch: Batch of Numpy image data\n",
    "    : label_batch: Batch of Numpy label data\n",
    "    \"\"\"\n",
    "    # TODO: Implement Function\n",
    "    session.run(optimizer, feed_dict={x: feature_batch, y: label_batch, keep_prob: keep_probability})\n",
    "    pass\n",
    "\n",
    "\n",
    "\"\"\"\n",
    "DON'T MODIFY ANYTHING IN THIS CELL THAT IS BELOW THIS LINE\n",
    "\"\"\"\n",
    "tests.test_train_nn(train_neural_network)"
   ]
  },
  {
   "cell_type": "markdown",
   "metadata": {
    "deletable": true,
    "editable": true
   },
   "source": [
    "### Show Stats\n",
    "Implement the function `print_stats` to print loss and validation accuracy.  Use the global variables `valid_features` and `valid_labels` to calculate validation accuracy.  Use a keep probability of `1.0` to calculate the loss and validation accuracy."
   ]
  },
  {
   "cell_type": "code",
   "execution_count": 147,
   "metadata": {
    "collapsed": false,
    "deletable": true,
    "editable": true
   },
   "outputs": [],
   "source": [
    "def print_stats(session, feature_batch, label_batch, cost, accuracy):\n",
    "    \"\"\"\n",
    "    Print information about loss and validation accuracy\n",
    "    : session: Current TensorFlow session\n",
    "    : feature_batch: Batch of Numpy image data\n",
    "    : label_batch: Batch of Numpy label data\n",
    "    : cost: TensorFlow cost function\n",
    "    : accuracy: TensorFlow accuracy function\n",
    "    \"\"\"\n",
    "    # TODO: Implement Function\n",
    "    loss = session.run(cost, feed_dict = {x: feature_batch, y: label_batch, keep_prob: 1.0})\n",
    "    \n",
    "    acc = session.run(accuracy, feed_dict = {x: valid_features, y: valid_labels, keep_prob: 1.0})\n",
    "    \n",
    "    print(\"Loss: {}\".format(loss), \"Validation Accuracy: {}\".format(acc))\n",
    "    \n",
    "    pass"
   ]
  },
  {
   "cell_type": "markdown",
   "metadata": {
    "deletable": true,
    "editable": true
   },
   "source": [
    "### Hyperparameters\n",
    "Tune the following parameters:\n",
    "* Set `epochs` to the number of iterations until the network stops learning or start overfitting\n",
    "* Set `batch_size` to the highest number that your machine has memory for.  Most people set them to common sizes of memory:\n",
    " * 64\n",
    " * 128\n",
    " * 256\n",
    " * ...\n",
    "* Set `keep_probability` to the probability of keeping a node using dropout"
   ]
  },
  {
   "cell_type": "code",
   "execution_count": 160,
   "metadata": {
    "collapsed": true,
    "deletable": true,
    "editable": true
   },
   "outputs": [],
   "source": [
    "# TODO: Tune Parameters\n",
    "epochs = 60\n",
    "batch_size = 256\n",
    "keep_probability = 1.0"
   ]
  },
  {
   "cell_type": "markdown",
   "metadata": {
    "deletable": true,
    "editable": true
   },
   "source": [
    "### Train on a Single CIFAR-10 Batch\n",
    "Instead of training the neural network on all the CIFAR-10 batches of data, let's use a single batch. This should save time while you iterate on the model to get a better accuracy.  Once the final validation accuracy is 50% or greater, run the model on all the data in the next section."
   ]
  },
  {
   "cell_type": "code",
   "execution_count": 161,
   "metadata": {
    "collapsed": false,
    "deletable": true,
    "editable": true
   },
   "outputs": [
    {
     "name": "stdout",
     "output_type": "stream",
     "text": [
      "Checking the Training on a Single Batch...\n",
      "Epoch  1, CIFAR-10 Batch 1:  Loss: 2.0376510620117188 Validation Accuracy: 0.31359997391700745\n",
      "Epoch  2, CIFAR-10 Batch 1:  Loss: 1.6730971336364746 Validation Accuracy: 0.37119996547698975\n",
      "Epoch  3, CIFAR-10 Batch 1:  Loss: 1.4040851593017578 Validation Accuracy: 0.41739997267723083\n",
      "Epoch  4, CIFAR-10 Batch 1:  Loss: 1.239956259727478 Validation Accuracy: 0.4177999496459961\n",
      "Epoch  5, CIFAR-10 Batch 1:  Loss: 1.0396981239318848 Validation Accuracy: 0.4399999678134918\n",
      "Epoch  6, CIFAR-10 Batch 1:  Loss: 0.8681390285491943 Validation Accuracy: 0.4607999324798584\n",
      "Epoch  7, CIFAR-10 Batch 1:  Loss: 0.7354512810707092 Validation Accuracy: 0.47519999742507935\n",
      "Epoch  8, CIFAR-10 Batch 1:  Loss: 0.6471853852272034 Validation Accuracy: 0.49039995670318604\n",
      "Epoch  9, CIFAR-10 Batch 1:  Loss: 0.5762906670570374 Validation Accuracy: 0.4925999641418457\n",
      "Epoch 10, CIFAR-10 Batch 1:  Loss: 0.5058881044387817 Validation Accuracy: 0.507599949836731\n",
      "Epoch 11, CIFAR-10 Batch 1:  Loss: 0.4664130210876465 Validation Accuracy: 0.5153999328613281\n",
      "Epoch 12, CIFAR-10 Batch 1:  Loss: 0.4245626926422119 Validation Accuracy: 0.5221999287605286\n",
      "Epoch 13, CIFAR-10 Batch 1:  Loss: 0.3677300810813904 Validation Accuracy: 0.5221999883651733\n",
      "Epoch 14, CIFAR-10 Batch 1:  Loss: 0.3081650137901306 Validation Accuracy: 0.5273999571800232\n",
      "Epoch 15, CIFAR-10 Batch 1:  Loss: 0.2858782708644867 Validation Accuracy: 0.5153999328613281\n",
      "Epoch 16, CIFAR-10 Batch 1:  Loss: 0.27103984355926514 Validation Accuracy: 0.5089999437332153\n",
      "Epoch 17, CIFAR-10 Batch 1:  Loss: 0.2232576310634613 Validation Accuracy: 0.5383999347686768\n",
      "Epoch 18, CIFAR-10 Batch 1:  Loss: 0.21452948451042175 Validation Accuracy: 0.5227999687194824\n",
      "Epoch 19, CIFAR-10 Batch 1:  Loss: 0.19895963370800018 Validation Accuracy: 0.517799973487854\n",
      "Epoch 20, CIFAR-10 Batch 1:  Loss: 0.16924738883972168 Validation Accuracy: 0.52239990234375\n",
      "Epoch 21, CIFAR-10 Batch 1:  Loss: 0.18732154369354248 Validation Accuracy: 0.5113999843597412\n",
      "Epoch 22, CIFAR-10 Batch 1:  Loss: 0.17668935656547546 Validation Accuracy: 0.5187999606132507\n",
      "Epoch 23, CIFAR-10 Batch 1:  Loss: 0.14710862934589386 Validation Accuracy: 0.5187999606132507\n",
      "Epoch 24, CIFAR-10 Batch 1:  Loss: 0.11666014045476913 Validation Accuracy: 0.5223999619483948\n",
      "Epoch 25, CIFAR-10 Batch 1:  Loss: 0.10355298221111298 Validation Accuracy: 0.5219999551773071\n",
      "Epoch 26, CIFAR-10 Batch 1:  Loss: 0.11615221202373505 Validation Accuracy: 0.525399923324585\n",
      "Epoch 27, CIFAR-10 Batch 1:  Loss: 0.14503785967826843 Validation Accuracy: 0.5107999444007874\n",
      "Epoch 28, CIFAR-10 Batch 1:  Loss: 0.1213207021355629 Validation Accuracy: 0.5113999247550964\n",
      "Epoch 29, CIFAR-10 Batch 1:  Loss: 0.18583612143993378 Validation Accuracy: 0.4915999472141266\n",
      "Epoch 30, CIFAR-10 Batch 1:  Loss: 0.09164246171712875 Validation Accuracy: 0.506399929523468\n",
      "Epoch 31, CIFAR-10 Batch 1:  Loss: 0.09900573641061783 Validation Accuracy: 0.50819993019104\n",
      "Epoch 32, CIFAR-10 Batch 1:  Loss: 0.08936414122581482 Validation Accuracy: 0.5077999830245972\n",
      "Epoch 33, CIFAR-10 Batch 1:  Loss: 0.0972248762845993 Validation Accuracy: 0.5073999762535095\n",
      "Epoch 34, CIFAR-10 Batch 1:  Loss: 0.07282863557338715 Validation Accuracy: 0.5185999870300293\n",
      "Epoch 35, CIFAR-10 Batch 1:  Loss: 0.12662675976753235 Validation Accuracy: 0.4941999316215515\n",
      "Epoch 36, CIFAR-10 Batch 1:  Loss: 0.07036815583705902 Validation Accuracy: 0.5161999464035034\n",
      "Epoch 37, CIFAR-10 Batch 1:  Loss: 0.07952409982681274 Validation Accuracy: 0.5081999897956848\n",
      "Epoch 38, CIFAR-10 Batch 1:  Loss: 0.07640568912029266 Validation Accuracy: 0.5073999166488647\n",
      "Epoch 39, CIFAR-10 Batch 1:  Loss: 0.08174993097782135 Validation Accuracy: 0.501599907875061\n",
      "Epoch 40, CIFAR-10 Batch 1:  Loss: 0.07381380349397659 Validation Accuracy: 0.5005999803543091\n",
      "Epoch 41, CIFAR-10 Batch 1:  Loss: 0.08406930416822433 Validation Accuracy: 0.4941999912261963\n",
      "Epoch 42, CIFAR-10 Batch 1:  Loss: 0.050508320331573486 Validation Accuracy: 0.5051999688148499\n",
      "Epoch 43, CIFAR-10 Batch 1:  Loss: 0.07388836145401001 Validation Accuracy: 0.4975999593734741\n",
      "Epoch 44, CIFAR-10 Batch 1:  Loss: 0.05725394934415817 Validation Accuracy: 0.5047999620437622\n",
      "Epoch 45, CIFAR-10 Batch 1:  Loss: 0.07953885942697525 Validation Accuracy: 0.48399996757507324\n",
      "Epoch 46, CIFAR-10 Batch 1:  Loss: 0.04623853415250778 Validation Accuracy: 0.5137999057769775\n",
      "Epoch 47, CIFAR-10 Batch 1:  Loss: 0.07250652462244034 Validation Accuracy: 0.49619996547698975\n",
      "Epoch 48, CIFAR-10 Batch 1:  Loss: 0.03488760069012642 Validation Accuracy: 0.4983999729156494\n",
      "Epoch 49, CIFAR-10 Batch 1:  Loss: 0.024236446246504784 Validation Accuracy: 0.5245999693870544\n",
      "Epoch 50, CIFAR-10 Batch 1:  Loss: 0.04250207543373108 Validation Accuracy: 0.5107999444007874\n",
      "Epoch 51, CIFAR-10 Batch 1:  Loss: 0.018043357878923416 Validation Accuracy: 0.5215999484062195\n",
      "Epoch 52, CIFAR-10 Batch 1:  Loss: 0.03336472064256668 Validation Accuracy: 0.5121999382972717\n",
      "Epoch 53, CIFAR-10 Batch 1:  Loss: 0.03347119316458702 Validation Accuracy: 0.5021999478340149\n",
      "Epoch 54, CIFAR-10 Batch 1:  Loss: 0.06745092570781708 Validation Accuracy: 0.4959999620914459\n",
      "Epoch 55, CIFAR-10 Batch 1:  Loss: 0.01915094070136547 Validation Accuracy: 0.5095999240875244\n",
      "Epoch 56, CIFAR-10 Batch 1:  Loss: 0.029376165941357613 Validation Accuracy: 0.4943999648094177\n",
      "Epoch 57, CIFAR-10 Batch 1:  Loss: 0.029340390115976334 Validation Accuracy: 0.49519994854927063\n",
      "Epoch 58, CIFAR-10 Batch 1:  Loss: 0.03884439915418625 Validation Accuracy: 0.48499998450279236\n",
      "Epoch 59, CIFAR-10 Batch 1:  Loss: 0.02707105316221714 Validation Accuracy: 0.4875999689102173\n",
      "Epoch 60, CIFAR-10 Batch 1:  Loss: 0.017232943326234818 Validation Accuracy: 0.4989999830722809\n"
     ]
    }
   ],
   "source": [
    "\"\"\"\n",
    "DON'T MODIFY ANYTHING IN THIS CELL\n",
    "\"\"\"\n",
    "print('Checking the Training on a Single Batch...')\n",
    "with tf.Session() as sess:\n",
    "    # Initializing the variables\n",
    "    sess.run(tf.global_variables_initializer())\n",
    "    \n",
    "    # Training cycle\n",
    "    for epoch in range(epochs):\n",
    "        batch_i = 1\n",
    "        for batch_features, batch_labels in helper.load_preprocess_training_batch(batch_i, batch_size):\n",
    "            train_neural_network(sess, optimizer, keep_probability, batch_features, batch_labels)\n",
    "        print('Epoch {:>2}, CIFAR-10 Batch {}:  '.format(epoch + 1, batch_i), end='')\n",
    "        print_stats(sess, batch_features, batch_labels, cost, accuracy)"
   ]
  },
  {
   "cell_type": "markdown",
   "metadata": {
    "deletable": true,
    "editable": true
   },
   "source": [
    "### Fully Train the Model\n",
    "Now that you got a good accuracy with a single CIFAR-10 batch, try it with all five batches."
   ]
  },
  {
   "cell_type": "code",
   "execution_count": 162,
   "metadata": {
    "collapsed": false,
    "deletable": true,
    "editable": true
   },
   "outputs": [
    {
     "name": "stdout",
     "output_type": "stream",
     "text": [
      "Training...\n",
      "Epoch  1, CIFAR-10 Batch 1:  Loss: 2.0668911933898926 Validation Accuracy: 0.2943999767303467\n",
      "Epoch  1, CIFAR-10 Batch 2:  Loss: 1.6089494228363037 Validation Accuracy: 0.4063999652862549\n",
      "Epoch  1, CIFAR-10 Batch 3:  Loss: 1.3468756675720215 Validation Accuracy: 0.4229999780654907\n",
      "Epoch  1, CIFAR-10 Batch 4:  Loss: 1.3710925579071045 Validation Accuracy: 0.4650000035762787\n",
      "Epoch  1, CIFAR-10 Batch 5:  Loss: 1.3995543718338013 Validation Accuracy: 0.47739994525909424\n",
      "Epoch  2, CIFAR-10 Batch 1:  Loss: 1.43455171585083 Validation Accuracy: 0.5051999688148499\n",
      "Epoch  2, CIFAR-10 Batch 2:  Loss: 1.2893919944763184 Validation Accuracy: 0.49119997024536133\n",
      "Epoch  2, CIFAR-10 Batch 3:  Loss: 0.9708694219589233 Validation Accuracy: 0.4825999438762665\n",
      "Epoch  2, CIFAR-10 Batch 4:  Loss: 1.0481934547424316 Validation Accuracy: 0.5166000127792358\n",
      "Epoch  2, CIFAR-10 Batch 5:  Loss: 1.2324658632278442 Validation Accuracy: 0.515999972820282\n",
      "Epoch  3, CIFAR-10 Batch 1:  Loss: 1.1657977104187012 Validation Accuracy: 0.5399999022483826\n",
      "Epoch  3, CIFAR-10 Batch 2:  Loss: 1.0999606847763062 Validation Accuracy: 0.5509999394416809\n",
      "Epoch  3, CIFAR-10 Batch 3:  Loss: 0.7548959255218506 Validation Accuracy: 0.5367999076843262\n",
      "Epoch  3, CIFAR-10 Batch 4:  Loss: 0.8508798480033875 Validation Accuracy: 0.5427999496459961\n",
      "Epoch  3, CIFAR-10 Batch 5:  Loss: 1.053004264831543 Validation Accuracy: 0.5465999245643616\n",
      "Epoch  4, CIFAR-10 Batch 1:  Loss: 0.9811122417449951 Validation Accuracy: 0.5661998987197876\n",
      "Epoch  4, CIFAR-10 Batch 2:  Loss: 0.9071382284164429 Validation Accuracy: 0.5643999576568604\n",
      "Epoch  4, CIFAR-10 Batch 3:  Loss: 0.6208734512329102 Validation Accuracy: 0.5803999304771423\n",
      "Epoch  4, CIFAR-10 Batch 4:  Loss: 0.7078813910484314 Validation Accuracy: 0.5761998891830444\n",
      "Epoch  4, CIFAR-10 Batch 5:  Loss: 0.8592798113822937 Validation Accuracy: 0.5845999121665955\n",
      "Epoch  5, CIFAR-10 Batch 1:  Loss: 0.8651461601257324 Validation Accuracy: 0.5811998844146729\n",
      "Epoch  5, CIFAR-10 Batch 2:  Loss: 0.789849579334259 Validation Accuracy: 0.5737999677658081\n",
      "Epoch  5, CIFAR-10 Batch 3:  Loss: 0.5318477153778076 Validation Accuracy: 0.6035999059677124\n",
      "Epoch  5, CIFAR-10 Batch 4:  Loss: 0.6251367330551147 Validation Accuracy: 0.5933999419212341\n",
      "Epoch  5, CIFAR-10 Batch 5:  Loss: 0.6864261627197266 Validation Accuracy: 0.5989999175071716\n",
      "Epoch  6, CIFAR-10 Batch 1:  Loss: 0.7576639652252197 Validation Accuracy: 0.5995998978614807\n",
      "Epoch  6, CIFAR-10 Batch 2:  Loss: 0.6587976217269897 Validation Accuracy: 0.5995999574661255\n",
      "Epoch  6, CIFAR-10 Batch 3:  Loss: 0.4327978789806366 Validation Accuracy: 0.6141998767852783\n",
      "Epoch  6, CIFAR-10 Batch 4:  Loss: 0.5682023763656616 Validation Accuracy: 0.6047998666763306\n",
      "Epoch  6, CIFAR-10 Batch 5:  Loss: 0.5681947469711304 Validation Accuracy: 0.6059998869895935\n",
      "Epoch  7, CIFAR-10 Batch 1:  Loss: 0.6936641931533813 Validation Accuracy: 0.6057999134063721\n",
      "Epoch  7, CIFAR-10 Batch 2:  Loss: 0.5566672086715698 Validation Accuracy: 0.6079999208450317\n",
      "Epoch  7, CIFAR-10 Batch 3:  Loss: 0.38055771589279175 Validation Accuracy: 0.6201998591423035\n",
      "Epoch  7, CIFAR-10 Batch 4:  Loss: 0.4851331114768982 Validation Accuracy: 0.6161999106407166\n",
      "Epoch  7, CIFAR-10 Batch 5:  Loss: 0.5195336937904358 Validation Accuracy: 0.6107999086380005\n",
      "Epoch  8, CIFAR-10 Batch 1:  Loss: 0.5956042408943176 Validation Accuracy: 0.6115999221801758\n",
      "Epoch  8, CIFAR-10 Batch 2:  Loss: 0.44506949186325073 Validation Accuracy: 0.6155999302864075\n",
      "Epoch  8, CIFAR-10 Batch 3:  Loss: 0.33421096205711365 Validation Accuracy: 0.6273998618125916\n",
      "Epoch  8, CIFAR-10 Batch 4:  Loss: 0.45516330003738403 Validation Accuracy: 0.6217999458312988\n",
      "Epoch  8, CIFAR-10 Batch 5:  Loss: 0.4555152654647827 Validation Accuracy: 0.6107999086380005\n",
      "Epoch  9, CIFAR-10 Batch 1:  Loss: 0.5407392978668213 Validation Accuracy: 0.6153998970985413\n",
      "Epoch  9, CIFAR-10 Batch 2:  Loss: 0.40344515442848206 Validation Accuracy: 0.6201999187469482\n",
      "Epoch  9, CIFAR-10 Batch 3:  Loss: 0.3094494044780731 Validation Accuracy: 0.6305999159812927\n",
      "Epoch  9, CIFAR-10 Batch 4:  Loss: 0.46849772334098816 Validation Accuracy: 0.6075999140739441\n",
      "Epoch  9, CIFAR-10 Batch 5:  Loss: 0.41011977195739746 Validation Accuracy: 0.6253998875617981\n",
      "Epoch 10, CIFAR-10 Batch 1:  Loss: 0.47477006912231445 Validation Accuracy: 0.6171998977661133\n",
      "Epoch 10, CIFAR-10 Batch 2:  Loss: 0.36683499813079834 Validation Accuracy: 0.624799907207489\n",
      "Epoch 10, CIFAR-10 Batch 3:  Loss: 0.27802830934524536 Validation Accuracy: 0.637799859046936\n",
      "Epoch 10, CIFAR-10 Batch 4:  Loss: 0.4201817214488983 Validation Accuracy: 0.612799882888794\n",
      "Epoch 10, CIFAR-10 Batch 5:  Loss: 0.3799186050891876 Validation Accuracy: 0.6169998645782471\n",
      "Epoch 11, CIFAR-10 Batch 1:  Loss: 0.3936775326728821 Validation Accuracy: 0.6333999037742615\n",
      "Epoch 11, CIFAR-10 Batch 2:  Loss: 0.3231457769870758 Validation Accuracy: 0.6329998970031738\n",
      "Epoch 11, CIFAR-10 Batch 3:  Loss: 0.2314535677433014 Validation Accuracy: 0.6405999064445496\n",
      "Epoch 11, CIFAR-10 Batch 4:  Loss: 0.3645700216293335 Validation Accuracy: 0.6235998868942261\n",
      "Epoch 11, CIFAR-10 Batch 5:  Loss: 0.3379506468772888 Validation Accuracy: 0.6173999309539795\n",
      "Epoch 12, CIFAR-10 Batch 1:  Loss: 0.3837108016014099 Validation Accuracy: 0.6213998794555664\n",
      "Epoch 12, CIFAR-10 Batch 2:  Loss: 0.2770697772502899 Validation Accuracy: 0.6345999240875244\n",
      "Epoch 12, CIFAR-10 Batch 3:  Loss: 0.21354635059833527 Validation Accuracy: 0.6429998874664307\n",
      "Epoch 12, CIFAR-10 Batch 4:  Loss: 0.3379218280315399 Validation Accuracy: 0.6215998530387878\n",
      "Epoch 12, CIFAR-10 Batch 5:  Loss: 0.31038928031921387 Validation Accuracy: 0.6307999491691589\n",
      "Epoch 13, CIFAR-10 Batch 1:  Loss: 0.3651966154575348 Validation Accuracy: 0.6277998685836792\n",
      "Epoch 13, CIFAR-10 Batch 2:  Loss: 0.25692203640937805 Validation Accuracy: 0.6371999382972717\n",
      "Epoch 13, CIFAR-10 Batch 3:  Loss: 0.2043449729681015 Validation Accuracy: 0.6367999315261841\n",
      "Epoch 13, CIFAR-10 Batch 4:  Loss: 0.3137495517730713 Validation Accuracy: 0.6237998604774475\n",
      "Epoch 13, CIFAR-10 Batch 5:  Loss: 0.28544965386390686 Validation Accuracy: 0.6317998766899109\n",
      "Epoch 14, CIFAR-10 Batch 1:  Loss: 0.31489062309265137 Validation Accuracy: 0.6281999349594116\n",
      "Epoch 14, CIFAR-10 Batch 2:  Loss: 0.22412630915641785 Validation Accuracy: 0.6349999308586121\n",
      "Epoch 14, CIFAR-10 Batch 3:  Loss: 0.2041596621274948 Validation Accuracy: 0.6291999220848083\n",
      "Epoch 14, CIFAR-10 Batch 4:  Loss: 0.2766617238521576 Validation Accuracy: 0.6315999031066895\n",
      "Epoch 14, CIFAR-10 Batch 5:  Loss: 0.24107608199119568 Validation Accuracy: 0.6405999064445496\n",
      "Epoch 15, CIFAR-10 Batch 1:  Loss: 0.2838485836982727 Validation Accuracy: 0.6285999417304993\n",
      "Epoch 15, CIFAR-10 Batch 2:  Loss: 0.21372203528881073 Validation Accuracy: 0.6361998915672302\n",
      "Epoch 15, CIFAR-10 Batch 3:  Loss: 0.19731375575065613 Validation Accuracy: 0.6281998753547668\n",
      "Epoch 15, CIFAR-10 Batch 4:  Loss: 0.26460105180740356 Validation Accuracy: 0.6283999085426331\n",
      "Epoch 15, CIFAR-10 Batch 5:  Loss: 0.19126158952713013 Validation Accuracy: 0.6451999545097351\n",
      "Epoch 16, CIFAR-10 Batch 1:  Loss: 0.2542530298233032 Validation Accuracy: 0.6299998760223389\n",
      "Epoch 16, CIFAR-10 Batch 2:  Loss: 0.20507828891277313 Validation Accuracy: 0.637799859046936\n",
      "Epoch 16, CIFAR-10 Batch 3:  Loss: 0.18518441915512085 Validation Accuracy: 0.6233999133110046\n",
      "Epoch 16, CIFAR-10 Batch 4:  Loss: 0.23542964458465576 Validation Accuracy: 0.6307998895645142\n",
      "Epoch 16, CIFAR-10 Batch 5:  Loss: 0.17503038048744202 Validation Accuracy: 0.6427998542785645\n",
      "Epoch 17, CIFAR-10 Batch 1:  Loss: 0.22621478140354156 Validation Accuracy: 0.6311999559402466\n",
      "Epoch 17, CIFAR-10 Batch 2:  Loss: 0.18487045168876648 Validation Accuracy: 0.6367998719215393\n",
      "Epoch 17, CIFAR-10 Batch 3:  Loss: 0.1663217544555664 Validation Accuracy: 0.619399905204773\n",
      "Epoch 17, CIFAR-10 Batch 4:  Loss: 0.2207506150007248 Validation Accuracy: 0.625999927520752\n",
      "Epoch 17, CIFAR-10 Batch 5:  Loss: 0.18301549553871155 Validation Accuracy: 0.6373999118804932\n",
      "Epoch 18, CIFAR-10 Batch 1:  Loss: 0.2030712366104126 Validation Accuracy: 0.6345999240875244\n",
      "Epoch 18, CIFAR-10 Batch 2:  Loss: 0.18168003857135773 Validation Accuracy: 0.6351999044418335\n",
      "Epoch 18, CIFAR-10 Batch 3:  Loss: 0.15803149342536926 Validation Accuracy: 0.6185998916625977\n",
      "Epoch 18, CIFAR-10 Batch 4:  Loss: 0.22946950793266296 Validation Accuracy: 0.6205998659133911\n",
      "Epoch 18, CIFAR-10 Batch 5:  Loss: 0.16388225555419922 Validation Accuracy: 0.6339998841285706\n",
      "Epoch 19, CIFAR-10 Batch 1:  Loss: 0.21187248826026917 Validation Accuracy: 0.6393998861312866\n",
      "Epoch 19, CIFAR-10 Batch 2:  Loss: 0.1787703037261963 Validation Accuracy: 0.637199878692627\n",
      "Epoch 19, CIFAR-10 Batch 3:  Loss: 0.16296181082725525 Validation Accuracy: 0.6205999255180359\n",
      "Epoch 19, CIFAR-10 Batch 4:  Loss: 0.2140653133392334 Validation Accuracy: 0.6251998543739319\n",
      "Epoch 19, CIFAR-10 Batch 5:  Loss: 0.16027657687664032 Validation Accuracy: 0.6407999396324158\n",
      "Epoch 20, CIFAR-10 Batch 1:  Loss: 0.19966809451580048 Validation Accuracy: 0.6389999389648438\n",
      "Epoch 20, CIFAR-10 Batch 2:  Loss: 0.18668067455291748 Validation Accuracy: 0.6335998773574829\n",
      "Epoch 20, CIFAR-10 Batch 3:  Loss: 0.15431463718414307 Validation Accuracy: 0.6189998388290405\n",
      "Epoch 20, CIFAR-10 Batch 4:  Loss: 0.20542176067829132 Validation Accuracy: 0.6317998766899109\n",
      "Epoch 20, CIFAR-10 Batch 5:  Loss: 0.14489246904850006 Validation Accuracy: 0.6311998963356018\n",
      "Epoch 21, CIFAR-10 Batch 1:  Loss: 0.20182354748249054 Validation Accuracy: 0.6405999660491943\n",
      "Epoch 21, CIFAR-10 Batch 2:  Loss: 0.1746368110179901 Validation Accuracy: 0.6393998861312866\n",
      "Epoch 21, CIFAR-10 Batch 3:  Loss: 0.16281306743621826 Validation Accuracy: 0.619999885559082\n",
      "Epoch 21, CIFAR-10 Batch 4:  Loss: 0.1916237324476242 Validation Accuracy: 0.6357998847961426\n",
      "Epoch 21, CIFAR-10 Batch 5:  Loss: 0.14181998372077942 Validation Accuracy: 0.6293998956680298\n",
      "Epoch 22, CIFAR-10 Batch 1:  Loss: 0.20317068696022034 Validation Accuracy: 0.6451998949050903\n",
      "Epoch 22, CIFAR-10 Batch 2:  Loss: 0.17249158024787903 Validation Accuracy: 0.637199878692627\n",
      "Epoch 22, CIFAR-10 Batch 3:  Loss: 0.15811273455619812 Validation Accuracy: 0.6223998665809631\n",
      "Epoch 22, CIFAR-10 Batch 4:  Loss: 0.17431694269180298 Validation Accuracy: 0.6429998874664307\n",
      "Epoch 22, CIFAR-10 Batch 5:  Loss: 0.15238544344902039 Validation Accuracy: 0.6261999607086182\n",
      "Epoch 23, CIFAR-10 Batch 1:  Loss: 0.21194884181022644 Validation Accuracy: 0.6357999444007874\n",
      "Epoch 23, CIFAR-10 Batch 2:  Loss: 0.20025292038917542 Validation Accuracy: 0.6311999559402466\n",
      "Epoch 23, CIFAR-10 Batch 3:  Loss: 0.14842438697814941 Validation Accuracy: 0.627799928188324\n",
      "Epoch 23, CIFAR-10 Batch 4:  Loss: 0.18575915694236755 Validation Accuracy: 0.6413998603820801\n",
      "Epoch 23, CIFAR-10 Batch 5:  Loss: 0.1537126898765564 Validation Accuracy: 0.6191998720169067\n",
      "Epoch 24, CIFAR-10 Batch 1:  Loss: 0.20396046340465546 Validation Accuracy: 0.6445999145507812\n",
      "Epoch 24, CIFAR-10 Batch 2:  Loss: 0.1789456605911255 Validation Accuracy: 0.6329998970031738\n",
      "Epoch 24, CIFAR-10 Batch 3:  Loss: 0.13826434314250946 Validation Accuracy: 0.624799907207489\n",
      "Epoch 24, CIFAR-10 Batch 4:  Loss: 0.176051065325737 Validation Accuracy: 0.6461998820304871\n",
      "Epoch 24, CIFAR-10 Batch 5:  Loss: 0.14402395486831665 Validation Accuracy: 0.6215999126434326\n",
      "Epoch 25, CIFAR-10 Batch 1:  Loss: 0.1866268664598465 Validation Accuracy: 0.6473998427391052\n",
      "Epoch 25, CIFAR-10 Batch 2:  Loss: 0.16242744028568268 Validation Accuracy: 0.6345999240875244\n",
      "Epoch 25, CIFAR-10 Batch 3:  Loss: 0.1348869651556015 Validation Accuracy: 0.626599907875061\n",
      "Epoch 25, CIFAR-10 Batch 4:  Loss: 0.2025221735239029 Validation Accuracy: 0.6393998861312866\n",
      "Epoch 25, CIFAR-10 Batch 5:  Loss: 0.14042900502681732 Validation Accuracy: 0.6219998598098755\n",
      "Epoch 26, CIFAR-10 Batch 1:  Loss: 0.17598804831504822 Validation Accuracy: 0.6519998908042908\n",
      "Epoch 26, CIFAR-10 Batch 2:  Loss: 0.1551886647939682 Validation Accuracy: 0.6333999037742615\n",
      "Epoch 26, CIFAR-10 Batch 3:  Loss: 0.13285678625106812 Validation Accuracy: 0.6309999227523804\n",
      "Epoch 26, CIFAR-10 Batch 4:  Loss: 0.20094723999500275 Validation Accuracy: 0.644399881362915\n",
      "Epoch 26, CIFAR-10 Batch 5:  Loss: 0.13213297724723816 Validation Accuracy: 0.6289998888969421\n",
      "Epoch 27, CIFAR-10 Batch 1:  Loss: 0.17593511939048767 Validation Accuracy: 0.6505998969078064\n",
      "Epoch 27, CIFAR-10 Batch 2:  Loss: 0.13744273781776428 Validation Accuracy: 0.6375998854637146\n",
      "Epoch 27, CIFAR-10 Batch 3:  Loss: 0.10746873170137405 Validation Accuracy: 0.6433999538421631\n",
      "Epoch 27, CIFAR-10 Batch 4:  Loss: 0.2042272835969925 Validation Accuracy: 0.6459999084472656\n",
      "Epoch 27, CIFAR-10 Batch 5:  Loss: 0.1271425038576126 Validation Accuracy: 0.6331998705863953\n",
      "Epoch 28, CIFAR-10 Batch 1:  Loss: 0.1810465306043625 Validation Accuracy: 0.6467999219894409\n",
      "Epoch 28, CIFAR-10 Batch 2:  Loss: 0.15951408445835114 Validation Accuracy: 0.6267999410629272\n",
      "Epoch 28, CIFAR-10 Batch 3:  Loss: 0.10974007099866867 Validation Accuracy: 0.6457998752593994\n",
      "Epoch 28, CIFAR-10 Batch 4:  Loss: 0.1888328194618225 Validation Accuracy: 0.6385998725891113\n",
      "Epoch 28, CIFAR-10 Batch 5:  Loss: 0.12805870175361633 Validation Accuracy: 0.6317998766899109\n",
      "Epoch 29, CIFAR-10 Batch 1:  Loss: 0.1826774626970291 Validation Accuracy: 0.6467998623847961\n",
      "Epoch 29, CIFAR-10 Batch 2:  Loss: 0.14099986851215363 Validation Accuracy: 0.6325998902320862\n",
      "Epoch 29, CIFAR-10 Batch 3:  Loss: 0.11455556750297546 Validation Accuracy: 0.6447998285293579\n",
      "Epoch 29, CIFAR-10 Batch 4:  Loss: 0.18397265672683716 Validation Accuracy: 0.6411998867988586\n",
      "Epoch 29, CIFAR-10 Batch 5:  Loss: 0.13367068767547607 Validation Accuracy: 0.6267999410629272\n",
      "Epoch 30, CIFAR-10 Batch 1:  Loss: 0.1946796178817749 Validation Accuracy: 0.6393999457359314\n",
      "Epoch 30, CIFAR-10 Batch 2:  Loss: 0.12908688187599182 Validation Accuracy: 0.6391998529434204\n",
      "Epoch 30, CIFAR-10 Batch 3:  Loss: 0.10889874398708344 Validation Accuracy: 0.6369999051094055\n",
      "Epoch 30, CIFAR-10 Batch 4:  Loss: 0.17305561900138855 Validation Accuracy: 0.640799880027771\n",
      "Epoch 30, CIFAR-10 Batch 5:  Loss: 0.11725630611181259 Validation Accuracy: 0.6351999044418335\n",
      "Epoch 31, CIFAR-10 Batch 1:  Loss: 0.1814543604850769 Validation Accuracy: 0.6441999077796936\n",
      "Epoch 31, CIFAR-10 Batch 2:  Loss: 0.11686979979276657 Validation Accuracy: 0.6467998623847961\n",
      "Epoch 31, CIFAR-10 Batch 3:  Loss: 0.11104948818683624 Validation Accuracy: 0.6361998915672302\n",
      "Epoch 31, CIFAR-10 Batch 4:  Loss: 0.1649188995361328 Validation Accuracy: 0.6433998942375183\n",
      "Epoch 31, CIFAR-10 Batch 5:  Loss: 0.10981413722038269 Validation Accuracy: 0.6401998996734619\n",
      "Epoch 32, CIFAR-10 Batch 1:  Loss: 0.15053406357765198 Validation Accuracy: 0.6441999077796936\n",
      "Epoch 32, CIFAR-10 Batch 2:  Loss: 0.12091114372015 Validation Accuracy: 0.6461998820304871\n",
      "Epoch 32, CIFAR-10 Batch 3:  Loss: 0.11617505550384521 Validation Accuracy: 0.6253998279571533\n",
      "Epoch 32, CIFAR-10 Batch 4:  Loss: 0.1541810780763626 Validation Accuracy: 0.650999903678894\n",
      "Epoch 32, CIFAR-10 Batch 5:  Loss: 0.11064916104078293 Validation Accuracy: 0.6405999064445496\n",
      "Epoch 33, CIFAR-10 Batch 1:  Loss: 0.15126335620880127 Validation Accuracy: 0.6453999280929565\n",
      "Epoch 33, CIFAR-10 Batch 2:  Loss: 0.12580551207065582 Validation Accuracy: 0.6459999084472656\n",
      "Epoch 33, CIFAR-10 Batch 3:  Loss: 0.108831025660038 Validation Accuracy: 0.6241999268531799\n",
      "Epoch 33, CIFAR-10 Batch 4:  Loss: 0.14290207624435425 Validation Accuracy: 0.64739990234375\n",
      "Epoch 33, CIFAR-10 Batch 5:  Loss: 0.10799660533666611 Validation Accuracy: 0.6365998983383179\n",
      "Epoch 34, CIFAR-10 Batch 1:  Loss: 0.13678568601608276 Validation Accuracy: 0.6431999206542969\n",
      "Epoch 34, CIFAR-10 Batch 2:  Loss: 0.1306290179491043 Validation Accuracy: 0.64739990234375\n",
      "Epoch 34, CIFAR-10 Batch 3:  Loss: 0.1000688374042511 Validation Accuracy: 0.6289998888969421\n",
      "Epoch 34, CIFAR-10 Batch 4:  Loss: 0.13352903723716736 Validation Accuracy: 0.6503999829292297\n",
      "Epoch 34, CIFAR-10 Batch 5:  Loss: 0.1195509284734726 Validation Accuracy: 0.6253999471664429\n",
      "Epoch 35, CIFAR-10 Batch 1:  Loss: 0.1287221759557724 Validation Accuracy: 0.6457999348640442\n",
      "Epoch 35, CIFAR-10 Batch 2:  Loss: 0.12914544343948364 Validation Accuracy: 0.645599901676178\n",
      "Epoch 35, CIFAR-10 Batch 3:  Loss: 0.10431621968746185 Validation Accuracy: 0.6299998760223389\n",
      "Epoch 35, CIFAR-10 Batch 4:  Loss: 0.13136151432991028 Validation Accuracy: 0.6489998698234558\n",
      "Epoch 35, CIFAR-10 Batch 5:  Loss: 0.09464247524738312 Validation Accuracy: 0.6339998841285706\n",
      "Epoch 36, CIFAR-10 Batch 1:  Loss: 0.13714149594306946 Validation Accuracy: 0.6485998630523682\n",
      "Epoch 36, CIFAR-10 Batch 2:  Loss: 0.1285414844751358 Validation Accuracy: 0.6485998630523682\n",
      "Epoch 36, CIFAR-10 Batch 3:  Loss: 0.09852638095617294 Validation Accuracy: 0.6359999179840088\n",
      "Epoch 36, CIFAR-10 Batch 4:  Loss: 0.12700442969799042 Validation Accuracy: 0.6515999436378479\n",
      "Epoch 36, CIFAR-10 Batch 5:  Loss: 0.08035349100828171 Validation Accuracy: 0.6353999376296997\n",
      "Epoch 37, CIFAR-10 Batch 1:  Loss: 0.12204472720623016 Validation Accuracy: 0.6507998704910278\n",
      "Epoch 37, CIFAR-10 Batch 2:  Loss: 0.11896662414073944 Validation Accuracy: 0.6501998901367188\n",
      "Epoch 37, CIFAR-10 Batch 3:  Loss: 0.09997628629207611 Validation Accuracy: 0.6393999457359314\n",
      "Epoch 37, CIFAR-10 Batch 4:  Loss: 0.10831436514854431 Validation Accuracy: 0.6499999165534973\n",
      "Epoch 37, CIFAR-10 Batch 5:  Loss: 0.07849615812301636 Validation Accuracy: 0.6345998644828796\n",
      "Epoch 38, CIFAR-10 Batch 1:  Loss: 0.11980573832988739 Validation Accuracy: 0.6495999097824097\n",
      "Epoch 38, CIFAR-10 Batch 2:  Loss: 0.11999249458312988 Validation Accuracy: 0.6505998969078064\n",
      "Epoch 38, CIFAR-10 Batch 3:  Loss: 0.07547077536582947 Validation Accuracy: 0.6459998488426208\n",
      "Epoch 38, CIFAR-10 Batch 4:  Loss: 0.11082520335912704 Validation Accuracy: 0.6503998637199402\n",
      "Epoch 38, CIFAR-10 Batch 5:  Loss: 0.07990080118179321 Validation Accuracy: 0.6323999166488647\n",
      "Epoch 39, CIFAR-10 Batch 1:  Loss: 0.13509055972099304 Validation Accuracy: 0.643799901008606\n",
      "Epoch 39, CIFAR-10 Batch 2:  Loss: 0.109372079372406 Validation Accuracy: 0.6483998894691467\n",
      "Epoch 39, CIFAR-10 Batch 3:  Loss: 0.07822702080011368 Validation Accuracy: 0.6375999450683594\n",
      "Epoch 39, CIFAR-10 Batch 4:  Loss: 0.13030344247817993 Validation Accuracy: 0.6493999361991882\n",
      "Epoch 39, CIFAR-10 Batch 5:  Loss: 0.09228628873825073 Validation Accuracy: 0.6347998976707458\n",
      "Epoch 40, CIFAR-10 Batch 1:  Loss: 0.1341046243906021 Validation Accuracy: 0.6393998861312866\n",
      "Epoch 40, CIFAR-10 Batch 2:  Loss: 0.11674614250659943 Validation Accuracy: 0.6369999051094055\n",
      "Epoch 40, CIFAR-10 Batch 3:  Loss: 0.09096048772335052 Validation Accuracy: 0.6097999215126038\n",
      "Epoch 40, CIFAR-10 Batch 4:  Loss: 0.13333995640277863 Validation Accuracy: 0.6417999267578125\n",
      "Epoch 40, CIFAR-10 Batch 5:  Loss: 0.09359999001026154 Validation Accuracy: 0.6353999376296997\n",
      "Epoch 41, CIFAR-10 Batch 1:  Loss: 0.15251508355140686 Validation Accuracy: 0.6277999877929688\n",
      "Epoch 41, CIFAR-10 Batch 2:  Loss: 0.12188111245632172 Validation Accuracy: 0.6445999145507812\n",
      "Epoch 41, CIFAR-10 Batch 3:  Loss: 0.07899267971515656 Validation Accuracy: 0.6039999127388\n",
      "Epoch 41, CIFAR-10 Batch 4:  Loss: 0.14277151226997375 Validation Accuracy: 0.6279998421669006\n",
      "Epoch 41, CIFAR-10 Batch 5:  Loss: 0.10652820020914078 Validation Accuracy: 0.6327999234199524\n",
      "Epoch 42, CIFAR-10 Batch 1:  Loss: 0.15781839191913605 Validation Accuracy: 0.6301998496055603\n",
      "Epoch 42, CIFAR-10 Batch 2:  Loss: 0.11554703116416931 Validation Accuracy: 0.637199878692627\n",
      "Epoch 42, CIFAR-10 Batch 3:  Loss: 0.07817703485488892 Validation Accuracy: 0.6113999485969543\n",
      "Epoch 42, CIFAR-10 Batch 4:  Loss: 0.13751932978630066 Validation Accuracy: 0.6275999546051025\n",
      "Epoch 42, CIFAR-10 Batch 5:  Loss: 0.08772523701190948 Validation Accuracy: 0.6237999200820923\n",
      "Epoch 43, CIFAR-10 Batch 1:  Loss: 0.12075239419937134 Validation Accuracy: 0.6373999118804932\n",
      "Epoch 43, CIFAR-10 Batch 2:  Loss: 0.11095790565013885 Validation Accuracy: 0.6381999254226685\n",
      "Epoch 43, CIFAR-10 Batch 3:  Loss: 0.08396375924348831 Validation Accuracy: 0.6015998125076294\n",
      "Epoch 43, CIFAR-10 Batch 4:  Loss: 0.1456778347492218 Validation Accuracy: 0.6293998956680298\n",
      "Epoch 43, CIFAR-10 Batch 5:  Loss: 0.09067961573600769 Validation Accuracy: 0.6263998746871948\n",
      "Epoch 44, CIFAR-10 Batch 1:  Loss: 0.12221089005470276 Validation Accuracy: 0.6283999085426331\n",
      "Epoch 44, CIFAR-10 Batch 2:  Loss: 0.10286260396242142 Validation Accuracy: 0.6305999159812927\n",
      "Epoch 44, CIFAR-10 Batch 3:  Loss: 0.07756435871124268 Validation Accuracy: 0.5989999175071716\n",
      "Epoch 44, CIFAR-10 Batch 4:  Loss: 0.1439710259437561 Validation Accuracy: 0.6351998448371887\n",
      "Epoch 44, CIFAR-10 Batch 5:  Loss: 0.07865363359451294 Validation Accuracy: 0.6377999186515808\n",
      "Epoch 45, CIFAR-10 Batch 1:  Loss: 0.11587673425674438 Validation Accuracy: 0.6321998834609985\n",
      "Epoch 45, CIFAR-10 Batch 2:  Loss: 0.09418296813964844 Validation Accuracy: 0.6255999207496643\n",
      "Epoch 45, CIFAR-10 Batch 3:  Loss: 0.07620682567358017 Validation Accuracy: 0.6095998883247375\n",
      "Epoch 45, CIFAR-10 Batch 4:  Loss: 0.13573817908763885 Validation Accuracy: 0.6347999572753906\n",
      "Epoch 45, CIFAR-10 Batch 5:  Loss: 0.06952150911092758 Validation Accuracy: 0.6475999355316162\n",
      "Epoch 46, CIFAR-10 Batch 1:  Loss: 0.11823349446058273 Validation Accuracy: 0.6311999559402466\n",
      "Epoch 46, CIFAR-10 Batch 2:  Loss: 0.08669900894165039 Validation Accuracy: 0.6331998705863953\n",
      "Epoch 46, CIFAR-10 Batch 3:  Loss: 0.06938271969556808 Validation Accuracy: 0.6089998483657837\n",
      "Epoch 46, CIFAR-10 Batch 4:  Loss: 0.1348595768213272 Validation Accuracy: 0.6445998549461365\n",
      "Epoch 46, CIFAR-10 Batch 5:  Loss: 0.07336960732936859 Validation Accuracy: 0.6557998657226562\n",
      "Epoch 47, CIFAR-10 Batch 1:  Loss: 0.11085131764411926 Validation Accuracy: 0.6333999037742615\n",
      "Epoch 47, CIFAR-10 Batch 2:  Loss: 0.08367586880922318 Validation Accuracy: 0.6347998380661011\n",
      "Epoch 47, CIFAR-10 Batch 3:  Loss: 0.06779246777296066 Validation Accuracy: 0.6121999025344849\n",
      "Epoch 47, CIFAR-10 Batch 4:  Loss: 0.13630084693431854 Validation Accuracy: 0.638999879360199\n",
      "Epoch 47, CIFAR-10 Batch 5:  Loss: 0.06913234293460846 Validation Accuracy: 0.6529998779296875\n",
      "Epoch 48, CIFAR-10 Batch 1:  Loss: 0.1083214208483696 Validation Accuracy: 0.6341999173164368\n",
      "Epoch 48, CIFAR-10 Batch 2:  Loss: 0.08280827105045319 Validation Accuracy: 0.6385999321937561\n",
      "Epoch 48, CIFAR-10 Batch 3:  Loss: 0.07679584622383118 Validation Accuracy: 0.5989999175071716\n",
      "Epoch 48, CIFAR-10 Batch 4:  Loss: 0.1243952214717865 Validation Accuracy: 0.6393998861312866\n",
      "Epoch 48, CIFAR-10 Batch 5:  Loss: 0.07334523648023605 Validation Accuracy: 0.6461998224258423\n",
      "Epoch 49, CIFAR-10 Batch 1:  Loss: 0.10977663844823837 Validation Accuracy: 0.6401998996734619\n",
      "Epoch 49, CIFAR-10 Batch 2:  Loss: 0.09111718088388443 Validation Accuracy: 0.6421998739242554\n",
      "Epoch 49, CIFAR-10 Batch 3:  Loss: 0.07290836423635483 Validation Accuracy: 0.596799910068512\n",
      "Epoch 49, CIFAR-10 Batch 4:  Loss: 0.137533500790596 Validation Accuracy: 0.6307998299598694\n",
      "Epoch 49, CIFAR-10 Batch 5:  Loss: 0.06632909923791885 Validation Accuracy: 0.6363998651504517\n",
      "Epoch 50, CIFAR-10 Batch 1:  Loss: 0.09962897002696991 Validation Accuracy: 0.6419999599456787\n",
      "Epoch 50, CIFAR-10 Batch 2:  Loss: 0.08796339482069016 Validation Accuracy: 0.6361998319625854\n",
      "Epoch 50, CIFAR-10 Batch 3:  Loss: 0.07123047858476639 Validation Accuracy: 0.5989998579025269\n",
      "Epoch 50, CIFAR-10 Batch 4:  Loss: 0.13040345907211304 Validation Accuracy: 0.6243999004364014\n",
      "Epoch 50, CIFAR-10 Batch 5:  Loss: 0.07102760672569275 Validation Accuracy: 0.6285998821258545\n",
      "Epoch 51, CIFAR-10 Batch 1:  Loss: 0.11038701981306076 Validation Accuracy: 0.6361998915672302\n",
      "Epoch 51, CIFAR-10 Batch 2:  Loss: 0.08137515932321548 Validation Accuracy: 0.6381998658180237\n",
      "Epoch 51, CIFAR-10 Batch 3:  Loss: 0.08711450546979904 Validation Accuracy: 0.6021998524665833\n",
      "Epoch 51, CIFAR-10 Batch 4:  Loss: 0.11939412355422974 Validation Accuracy: 0.6299998760223389\n",
      "Epoch 51, CIFAR-10 Batch 5:  Loss: 0.08205662667751312 Validation Accuracy: 0.6303998827934265\n",
      "Epoch 52, CIFAR-10 Batch 1:  Loss: 0.10717712342739105 Validation Accuracy: 0.6289999485015869\n",
      "Epoch 52, CIFAR-10 Batch 2:  Loss: 0.08905994892120361 Validation Accuracy: 0.630599856376648\n",
      "Epoch 52, CIFAR-10 Batch 3:  Loss: 0.07070466876029968 Validation Accuracy: 0.6091998815536499\n",
      "Epoch 52, CIFAR-10 Batch 4:  Loss: 0.1248997375369072 Validation Accuracy: 0.6367998719215393\n",
      "Epoch 52, CIFAR-10 Batch 5:  Loss: 0.0756758600473404 Validation Accuracy: 0.637799859046936\n",
      "Epoch 53, CIFAR-10 Batch 1:  Loss: 0.11454986780881882 Validation Accuracy: 0.6391998529434204\n",
      "Epoch 53, CIFAR-10 Batch 2:  Loss: 0.0786912739276886 Validation Accuracy: 0.6301999092102051\n",
      "Epoch 53, CIFAR-10 Batch 3:  Loss: 0.0754004642367363 Validation Accuracy: 0.6081998944282532\n",
      "Epoch 53, CIFAR-10 Batch 4:  Loss: 0.11717523634433746 Validation Accuracy: 0.6365998983383179\n",
      "Epoch 53, CIFAR-10 Batch 5:  Loss: 0.07349252700805664 Validation Accuracy: 0.6421998739242554\n",
      "Epoch 54, CIFAR-10 Batch 1:  Loss: 0.10808549076318741 Validation Accuracy: 0.6355998516082764\n",
      "Epoch 54, CIFAR-10 Batch 2:  Loss: 0.07656922936439514 Validation Accuracy: 0.6293998956680298\n",
      "Epoch 54, CIFAR-10 Batch 3:  Loss: 0.07145053148269653 Validation Accuracy: 0.6075999140739441\n",
      "Epoch 54, CIFAR-10 Batch 4:  Loss: 0.10388451814651489 Validation Accuracy: 0.6335998773574829\n",
      "Epoch 54, CIFAR-10 Batch 5:  Loss: 0.07085984945297241 Validation Accuracy: 0.6425999402999878\n",
      "Epoch 55, CIFAR-10 Batch 1:  Loss: 0.11296580731868744 Validation Accuracy: 0.6357998847961426\n",
      "Epoch 55, CIFAR-10 Batch 2:  Loss: 0.08610282093286514 Validation Accuracy: 0.6209998726844788\n",
      "Epoch 55, CIFAR-10 Batch 3:  Loss: 0.07783965021371841 Validation Accuracy: 0.6067999601364136\n",
      "Epoch 55, CIFAR-10 Batch 4:  Loss: 0.08747629821300507 Validation Accuracy: 0.6389998197555542\n",
      "Epoch 55, CIFAR-10 Batch 5:  Loss: 0.06703980267047882 Validation Accuracy: 0.6339998841285706\n",
      "Epoch 56, CIFAR-10 Batch 1:  Loss: 0.12471037358045578 Validation Accuracy: 0.6295998692512512\n",
      "Epoch 56, CIFAR-10 Batch 2:  Loss: 0.09731121361255646 Validation Accuracy: 0.626599907875061\n",
      "Epoch 56, CIFAR-10 Batch 3:  Loss: 0.07460924237966537 Validation Accuracy: 0.6065998673439026\n",
      "Epoch 56, CIFAR-10 Batch 4:  Loss: 0.09167146682739258 Validation Accuracy: 0.634199857711792\n",
      "Epoch 56, CIFAR-10 Batch 5:  Loss: 0.06673289835453033 Validation Accuracy: 0.6333999037742615\n",
      "Epoch 57, CIFAR-10 Batch 1:  Loss: 0.13135004043579102 Validation Accuracy: 0.6283998489379883\n",
      "Epoch 57, CIFAR-10 Batch 2:  Loss: 0.10259600728750229 Validation Accuracy: 0.627799928188324\n",
      "Epoch 57, CIFAR-10 Batch 3:  Loss: 0.07181952893733978 Validation Accuracy: 0.619999885559082\n",
      "Epoch 57, CIFAR-10 Batch 4:  Loss: 0.11282183229923248 Validation Accuracy: 0.619999885559082\n",
      "Epoch 57, CIFAR-10 Batch 5:  Loss: 0.06150598078966141 Validation Accuracy: 0.6379998326301575\n",
      "Epoch 58, CIFAR-10 Batch 1:  Loss: 0.12924014031887054 Validation Accuracy: 0.6345999240875244\n",
      "Epoch 58, CIFAR-10 Batch 2:  Loss: 0.10529595613479614 Validation Accuracy: 0.6207998991012573\n",
      "Epoch 58, CIFAR-10 Batch 3:  Loss: 0.05679047107696533 Validation Accuracy: 0.6301999092102051\n",
      "Epoch 58, CIFAR-10 Batch 4:  Loss: 0.10521082580089569 Validation Accuracy: 0.6205998659133911\n",
      "Epoch 58, CIFAR-10 Batch 5:  Loss: 0.054555583745241165 Validation Accuracy: 0.6335998773574829\n",
      "Epoch 59, CIFAR-10 Batch 1:  Loss: 0.10714162886142731 Validation Accuracy: 0.6405998468399048\n",
      "Epoch 59, CIFAR-10 Batch 2:  Loss: 0.09608328342437744 Validation Accuracy: 0.629599928855896\n",
      "Epoch 59, CIFAR-10 Batch 3:  Loss: 0.04040129855275154 Validation Accuracy: 0.6395999193191528\n",
      "Epoch 59, CIFAR-10 Batch 4:  Loss: 0.0816153734922409 Validation Accuracy: 0.6207998991012573\n",
      "Epoch 59, CIFAR-10 Batch 5:  Loss: 0.05029051750898361 Validation Accuracy: 0.6255999207496643\n",
      "Epoch 60, CIFAR-10 Batch 1:  Loss: 0.1004473865032196 Validation Accuracy: 0.638999879360199\n",
      "Epoch 60, CIFAR-10 Batch 2:  Loss: 0.08278825879096985 Validation Accuracy: 0.6335999965667725\n",
      "Epoch 60, CIFAR-10 Batch 3:  Loss: 0.04679038003087044 Validation Accuracy: 0.640799880027771\n",
      "Epoch 60, CIFAR-10 Batch 4:  Loss: 0.08348322659730911 Validation Accuracy: 0.6195998787879944\n",
      "Epoch 60, CIFAR-10 Batch 5:  Loss: 0.056090131402015686 Validation Accuracy: 0.6281999349594116\n"
     ]
    }
   ],
   "source": [
    "\"\"\"\n",
    "DON'T MODIFY ANYTHING IN THIS CELL\n",
    "\"\"\"\n",
    "save_model_path = './image_classification'\n",
    "\n",
    "print('Training...')\n",
    "with tf.Session() as sess:\n",
    "    # Initializing the variables\n",
    "    sess.run(tf.global_variables_initializer())\n",
    "    \n",
    "    # Training cycle\n",
    "    for epoch in range(epochs):\n",
    "        # Loop over all batches\n",
    "        n_batches = 5\n",
    "        for batch_i in range(1, n_batches + 1):\n",
    "            for batch_features, batch_labels in helper.load_preprocess_training_batch(batch_i, batch_size):\n",
    "                train_neural_network(sess, optimizer, keep_probability, batch_features, batch_labels)\n",
    "            print('Epoch {:>2}, CIFAR-10 Batch {}:  '.format(epoch + 1, batch_i), end='')\n",
    "            print_stats(sess, batch_features, batch_labels, cost, accuracy)\n",
    "            \n",
    "    # Save Model\n",
    "    saver = tf.train.Saver()\n",
    "    save_path = saver.save(sess, save_model_path)"
   ]
  },
  {
   "cell_type": "markdown",
   "metadata": {
    "deletable": true,
    "editable": true
   },
   "source": [
    "# Checkpoint\n",
    "The model has been saved to disk.\n",
    "## Test Model\n",
    "Test your model against the test dataset.  This will be your final accuracy. You should have an accuracy greater than 50%. If you don't, keep tweaking the model architecture and parameters."
   ]
  },
  {
   "cell_type": "code",
   "execution_count": 163,
   "metadata": {
    "collapsed": false,
    "deletable": true,
    "editable": true
   },
   "outputs": [
    {
     "name": "stdout",
     "output_type": "stream",
     "text": [
      "Testing Accuracy: 0.63857421875\n",
      "\n"
     ]
    },
    {
     "data": {
      "image/png": "[encoded data removed]",
      "text/plain": [
       "<matplotlib.figure.Figure at 0x7f78943c0438>"
      ]
     },
     "metadata": {
      "image/png": {
       "height": 319,
       "width": 355
      }
     },
     "output_type": "display_data"
    }
   ],
   "source": [
    "\"\"\"\n",
    "DON'T MODIFY ANYTHING IN THIS CELL\n",
    "\"\"\"\n",
    "%matplotlib inline\n",
    "%config InlineBackend.figure_format = 'retina'\n",
    "\n",
    "import tensorflow as tf\n",
    "import pickle\n",
    "import helper\n",
    "import random\n",
    "\n",
    "# Set batch size if not already set\n",
    "try:\n",
    "    if batch_size:\n",
    "        pass\n",
    "except NameError:\n",
    "    batch_size = 64\n",
    "\n",
    "save_model_path = './image_classification'\n",
    "n_samples = 4\n",
    "top_n_predictions = 3\n",
    "\n",
    "def test_model():\n",
    "    \"\"\"\n",
    "    Test the saved model against the test dataset\n",
    "    \"\"\"\n",
    "\n",
    "    test_features, test_labels = pickle.load(open('preprocess_training.p', mode='rb'))\n",
    "    loaded_graph = tf.Graph()\n",
    "\n",
    "    with tf.Session(graph=loaded_graph) as sess:\n",
    "        # Load model\n",
    "        loader = tf.train.import_meta_graph(save_model_path + '.meta')\n",
    "        loader.restore(sess, save_model_path)\n",
    "\n",
    "        # Get Tensors from loaded model\n",
    "        loaded_x = loaded_graph.get_tensor_by_name('x:0')\n",
    "        loaded_y = loaded_graph.get_tensor_by_name('y:0')\n",
    "        loaded_keep_prob = loaded_graph.get_tensor_by_name('keep_prob:0')\n",
    "        loaded_logits = loaded_graph.get_tensor_by_name('logits:0')\n",
    "        loaded_acc = loaded_graph.get_tensor_by_name('accuracy:0')\n",
    "        \n",
    "        # Get accuracy in batches for memory limitations\n",
    "        test_batch_acc_total = 0\n",
    "        test_batch_count = 0\n",
    "        \n",
    "        for train_feature_batch, train_label_batch in helper.batch_features_labels(test_features, test_labels, batch_size):\n",
    "            test_batch_acc_total += sess.run(\n",
    "                loaded_acc,\n",
    "                feed_dict={loaded_x: train_feature_batch, loaded_y: train_label_batch, loaded_keep_prob: 1.0})\n",
    "            test_batch_count += 1\n",
    "\n",
    "        print('Testing Accuracy: {}\\n'.format(test_batch_acc_total/test_batch_count))\n",
    "\n",
    "        # Print Random Samples\n",
    "        random_test_features, random_test_labels = tuple(zip(*random.sample(list(zip(test_features, test_labels)), n_samples)))\n",
    "        random_test_predictions = sess.run(\n",
    "            tf.nn.top_k(tf.nn.softmax(loaded_logits), top_n_predictions),\n",
    "            feed_dict={loaded_x: random_test_features, loaded_y: random_test_labels, loaded_keep_prob: 1.0})\n",
    "        helper.display_image_predictions(random_test_features, random_test_labels, random_test_predictions)\n",
    "\n",
    "\n",
    "test_model()"
   ]
  },
  {
   "cell_type": "markdown",
   "metadata": {
    "deletable": true,
    "editable": true
   },
   "source": [
    "## Why 50-70% Accuracy?\n",
    "You might be wondering why you can't get an accuracy any higher. First things first, 50% isn't bad for a simple CNN.  Pure guessing would get you 10% accuracy. However, you might notice people are getting scores [well above 70%](http://rodrigob.github.io/are_we_there_yet/build/classification_datasets_results.html#43494641522d3130).  That's because we haven't taught you all there is to know about neural networks. We still need to cover a few more techniques.\n",
    "## Submitting This Project\n",
    "When submitting this project, make sure to run all the cells before saving the notebook.  Save the notebook file as \"dlnd_image_classification.ipynb\" and save it as a HTML file under \"File\" -> \"Download as\".  Include the \"helper.py\" and \"problem_unittests.py\" files in your submission."
   ]
  }
 ],
 "metadata": {
  "kernelspec": {
   "display_name": "Python 3",
   "language": "python",
   "name": "python3"
  },
  "language_info": {
   "codemirror_mode": {
    "name": "ipython",
    "version": 3
   },
   "file_extension": ".py",
   "mimetype": "text/x-python",
   "name": "python",
   "nbconvert_exporter": "python",
   "pygments_lexer": "ipython3",
   "version": "3.5.2"
  },
  "widgets": {
   "state": {},
   "version": "1.1.2"
  }
 },
 "nbformat": 4,
 "nbformat_minor": 0
}
